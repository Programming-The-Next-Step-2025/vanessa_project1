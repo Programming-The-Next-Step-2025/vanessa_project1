{
 "cells": [
  {
   "cell_type": "code",
   "execution_count": 1,
   "id": "2b8f1d2c",
   "metadata": {},
   "outputs": [
    {
     "name": "stdout",
     "output_type": "stream",
     "text": [
      "Obtaining file:///Users/vanessalulo/Projects/vanessa_project1\n",
      "  Installing build dependencies ... \u001b[?25ldone\n",
      "\u001b[?25h  Checking if build backend supports build_editable ... \u001b[?25ldone\n",
      "\u001b[?25h  Getting requirements to build editable ... \u001b[?25ldone\n",
      "\u001b[?25h  Preparing editable metadata (pyproject.toml) ... \u001b[?25ldone\n",
      "\u001b[?25hRequirement already satisfied: requests in /Users/vanessalulo/Projects/vanessa_project1/.venv/lib/python3.9/site-packages (from recipe_book_project_vanessalulo==0.0.1) (2.32.3)\n",
      "Requirement already satisfied: plotly in /Users/vanessalulo/Projects/vanessa_project1/.venv/lib/python3.9/site-packages (from recipe_book_project_vanessalulo==0.0.1) (6.1.1)\n",
      "Requirement already satisfied: nbformat>=4.2.0 in /Users/vanessalulo/Projects/vanessa_project1/.venv/lib/python3.9/site-packages (from recipe_book_project_vanessalulo==0.0.1) (5.10.4)\n",
      "Requirement already satisfied: fastjsonschema>=2.15 in /Users/vanessalulo/Projects/vanessa_project1/.venv/lib/python3.9/site-packages (from nbformat>=4.2.0->recipe_book_project_vanessalulo==0.0.1) (2.21.1)\n",
      "Requirement already satisfied: jsonschema>=2.6 in /Users/vanessalulo/Projects/vanessa_project1/.venv/lib/python3.9/site-packages (from nbformat>=4.2.0->recipe_book_project_vanessalulo==0.0.1) (4.23.0)\n",
      "Requirement already satisfied: jupyter-core!=5.0.*,>=4.12 in /Users/vanessalulo/Projects/vanessa_project1/.venv/lib/python3.9/site-packages (from nbformat>=4.2.0->recipe_book_project_vanessalulo==0.0.1) (5.7.2)\n",
      "Requirement already satisfied: traitlets>=5.1 in /Users/vanessalulo/Projects/vanessa_project1/.venv/lib/python3.9/site-packages (from nbformat>=4.2.0->recipe_book_project_vanessalulo==0.0.1) (5.14.3)\n",
      "Requirement already satisfied: attrs>=22.2.0 in /Users/vanessalulo/Projects/vanessa_project1/.venv/lib/python3.9/site-packages (from jsonschema>=2.6->nbformat>=4.2.0->recipe_book_project_vanessalulo==0.0.1) (25.3.0)\n",
      "Requirement already satisfied: jsonschema-specifications>=2023.03.6 in /Users/vanessalulo/Projects/vanessa_project1/.venv/lib/python3.9/site-packages (from jsonschema>=2.6->nbformat>=4.2.0->recipe_book_project_vanessalulo==0.0.1) (2025.4.1)\n",
      "Requirement already satisfied: referencing>=0.28.4 in /Users/vanessalulo/Projects/vanessa_project1/.venv/lib/python3.9/site-packages (from jsonschema>=2.6->nbformat>=4.2.0->recipe_book_project_vanessalulo==0.0.1) (0.36.2)\n",
      "Requirement already satisfied: rpds-py>=0.7.1 in /Users/vanessalulo/Projects/vanessa_project1/.venv/lib/python3.9/site-packages (from jsonschema>=2.6->nbformat>=4.2.0->recipe_book_project_vanessalulo==0.0.1) (0.25.1)\n",
      "Requirement already satisfied: platformdirs>=2.5 in /Users/vanessalulo/Projects/vanessa_project1/.venv/lib/python3.9/site-packages (from jupyter-core!=5.0.*,>=4.12->nbformat>=4.2.0->recipe_book_project_vanessalulo==0.0.1) (4.3.8)\n",
      "Requirement already satisfied: typing-extensions>=4.4.0 in /Users/vanessalulo/Projects/vanessa_project1/.venv/lib/python3.9/site-packages (from referencing>=0.28.4->jsonschema>=2.6->nbformat>=4.2.0->recipe_book_project_vanessalulo==0.0.1) (4.13.2)\n",
      "Requirement already satisfied: narwhals>=1.15.1 in /Users/vanessalulo/Projects/vanessa_project1/.venv/lib/python3.9/site-packages (from plotly->recipe_book_project_vanessalulo==0.0.1) (1.40.0)\n",
      "Requirement already satisfied: packaging in /Users/vanessalulo/Projects/vanessa_project1/.venv/lib/python3.9/site-packages (from plotly->recipe_book_project_vanessalulo==0.0.1) (25.0)\n",
      "Requirement already satisfied: charset-normalizer<4,>=2 in /Users/vanessalulo/Projects/vanessa_project1/.venv/lib/python3.9/site-packages (from requests->recipe_book_project_vanessalulo==0.0.1) (3.4.2)\n",
      "Requirement already satisfied: idna<4,>=2.5 in /Users/vanessalulo/Projects/vanessa_project1/.venv/lib/python3.9/site-packages (from requests->recipe_book_project_vanessalulo==0.0.1) (3.10)\n",
      "Requirement already satisfied: urllib3<3,>=1.21.1 in /Users/vanessalulo/Projects/vanessa_project1/.venv/lib/python3.9/site-packages (from requests->recipe_book_project_vanessalulo==0.0.1) (2.4.0)\n",
      "Requirement already satisfied: certifi>=2017.4.17 in /Users/vanessalulo/Projects/vanessa_project1/.venv/lib/python3.9/site-packages (from requests->recipe_book_project_vanessalulo==0.0.1) (2025.4.26)\n",
      "Building wheels for collected packages: recipe_book_project_vanessalulo\n",
      "  Building editable for recipe_book_project_vanessalulo (pyproject.toml) ... \u001b[?25ldone\n",
      "\u001b[?25h  Created wheel for recipe_book_project_vanessalulo: filename=recipe_book_project_vanessalulo-0.0.1-0.editable-py3-none-any.whl size=1994 sha256=6514c71eeff2ee64fd2826d33ef4f6b12f0c7165acfcf7682922656c500fbc5b\n",
      "  Stored in directory: /private/var/folders/bf/65s0x5s5619_10xc7tt0k7c40000gn/T/pip-ephem-wheel-cache-zi19p415/wheels/45/6f/06/d92144b6dfe6af5d7e08e1e5e0301ca059a9247bda9e68b0f9\n",
      "Successfully built recipe_book_project_vanessalulo\n",
      "Installing collected packages: recipe_book_project_vanessalulo\n",
      "  Attempting uninstall: recipe_book_project_vanessalulo\n",
      "    Found existing installation: recipe_book_project_vanessalulo 0.0.1\n",
      "    Uninstalling recipe_book_project_vanessalulo-0.0.1:\n",
      "      Successfully uninstalled recipe_book_project_vanessalulo-0.0.1\n",
      "Successfully installed recipe_book_project_vanessalulo-0.0.1\n"
     ]
    }
   ],
   "source": [
    "!pip install -e ../\n",
    "# make sure requests, plotly, nbformat>=4.2.0 installed\n",
    "from recipe_book_project_vanessalulo import Pantry\n",
    "from recipe_book_project_vanessalulo import Ingredient, IngredientList\n"
   ]
  },
  {
   "cell_type": "markdown",
   "id": "85e0d604",
   "metadata": {},
   "source": [
    "# Week 3 Report – Pantry Package\n",
    "\n",
    "## Introduction\n",
    "This report outlines the current progress on the Pantry package. The report also demonstrates usage and possible outputs of the package so far.\n"
   ]
  },
  {
   "cell_type": "markdown",
   "id": "aad2fc4d",
   "metadata": {},
   "source": [
    "## Ingredients and IngredientList classes\n",
    "The Ingredient class represents a single ingredient with its name, measurement, quantity, and calories. The IngredientList class manages a collection of these ingredients, tracks total calories, and checks if a pantry has enough ingredients to make a recipe."
   ]
  },
  {
   "cell_type": "markdown",
   "id": "4ca1cb34",
   "metadata": {},
   "source": [
    "# How to use the Ingredients package"
   ]
  },
  {
   "cell_type": "code",
   "execution_count": null,
   "id": "8aa4f0bc",
   "metadata": {},
   "outputs": [
    {
     "name": "stdout",
     "output_type": "stream",
     "text": [
      "300 grams of flour (1100 cal)\n",
      "100 grams of sugar (400 cal)\n",
      "2 units of eggs (140 cal)\n",
      "Total calories: 1640\n"
     ]
    }
   ],
   "source": [
    "# create individual ingredients\n",
    "flour = Ingredient(name=\"flour\", measurement=\"grams\", quantity=300, calories=1100)\n",
    "sugar = Ingredient(name=\"sugar\", measurement=\"grams\", quantity=100, calories=400)\n",
    "eggs = Ingredient(name=\"eggs\", measurement=\"units\", quantity=2, calories=140)\n",
    "\n",
    "# create an ingredient list\n",
    "cake_ingredients = IngredientList()\n",
    "cake_ingredients.add_ingredient(flour)\n",
    "cake_ingredients.add_ingredient(sugar)\n",
    "cake_ingredients.add_ingredient(eggs)\n",
    "\n",
    "# to visualize the ingredient list\n",
    "# Check what's in the recipe\n",
    "for name, ing in cake_ingredients.ingredients.items():\n",
    "    print(f\"{ing.quantity} {ing.measurement} of {ing.name} ({ing.calories} cal)\")\n",
    "\n",
    "print(\"Total calories:\", cake_ingredients.total_calories)\n"
   ]
  },
  {
   "cell_type": "markdown",
   "id": "6a492707",
   "metadata": {},
   "source": [
    "# Now demonstration of the Pantry\n"
   ]
  },
  {
   "cell_type": "code",
   "execution_count": 3,
   "id": "f544a30f",
   "metadata": {},
   "outputs": [
    {
     "name": "stdout",
     "output_type": "stream",
     "text": [
      "Can make cake: True\n"
     ]
    }
   ],
   "source": [
    "# Create a Pantry and stock it\n",
    "pantry = Pantry()\n",
    "pantry.add_to_pantry(\"flour\", 500)\n",
    "pantry.add_to_pantry(\"sugar\", 200)\n",
    "pantry.add_to_pantry(\"eggs\", 4)\n",
    "# Check if we can make the cake\n",
    "can_make = cake_ingredients.enough_for_recipe(pantry)\n",
    "print(\"Can make cake:\", can_make)  # Should be True"
   ]
  },
  {
   "cell_type": "code",
   "execution_count": 4,
   "id": "cf3dceb8",
   "metadata": {},
   "outputs": [
    {
     "name": "stdout",
     "output_type": "stream",
     "text": [
      "Can make cake with limited pantry: False\n"
     ]
    }
   ],
   "source": [
    "# Simulate limited pantry\n",
    "limited_pantry = Pantry()\n",
    "limited_pantry.add_to_pantry(\"flour\", 100)\n",
    "limited_pantry.add_to_pantry(\"sugar\", 50)\n",
    "limited_pantry.add_to_pantry(\"eggs\", 1)\n",
    "\n",
    "print(\"Can make cake with limited pantry:\", cake_ingredients.enough_for_recipe(limited_pantry))  # False\n"
   ]
  },
  {
   "cell_type": "code",
   "execution_count": null,
   "id": "8dcea1b9",
   "metadata": {},
   "outputs": [
    {
     "data": {
      "application/vnd.plotly.v1+json": {
       "config": {
        "plotlyServerURL": "https://plot.ly"
       },
       "data": [
        {
         "name": "Quantity",
         "type": "bar",
         "x": [
          "flour",
          "sugar",
          "eggs"
         ],
         "y": [
          500,
          200,
          4
         ]
        }
       ],
       "layout": {
        "template": {
         "data": {
          "bar": [
           {
            "error_x": {
             "color": "#2a3f5f"
            },
            "error_y": {
             "color": "#2a3f5f"
            },
            "marker": {
             "line": {
              "color": "white",
              "width": 0.5
             },
             "pattern": {
              "fillmode": "overlay",
              "size": 10,
              "solidity": 0.2
             }
            },
            "type": "bar"
           }
          ],
          "barpolar": [
           {
            "marker": {
             "line": {
              "color": "white",
              "width": 0.5
             },
             "pattern": {
              "fillmode": "overlay",
              "size": 10,
              "solidity": 0.2
             }
            },
            "type": "barpolar"
           }
          ],
          "carpet": [
           {
            "aaxis": {
             "endlinecolor": "#2a3f5f",
             "gridcolor": "#C8D4E3",
             "linecolor": "#C8D4E3",
             "minorgridcolor": "#C8D4E3",
             "startlinecolor": "#2a3f5f"
            },
            "baxis": {
             "endlinecolor": "#2a3f5f",
             "gridcolor": "#C8D4E3",
             "linecolor": "#C8D4E3",
             "minorgridcolor": "#C8D4E3",
             "startlinecolor": "#2a3f5f"
            },
            "type": "carpet"
           }
          ],
          "choropleth": [
           {
            "colorbar": {
             "outlinewidth": 0,
             "ticks": ""
            },
            "type": "choropleth"
           }
          ],
          "contour": [
           {
            "colorbar": {
             "outlinewidth": 0,
             "ticks": ""
            },
            "colorscale": [
             [
              0,
              "#0d0887"
             ],
             [
              0.1111111111111111,
              "#46039f"
             ],
             [
              0.2222222222222222,
              "#7201a8"
             ],
             [
              0.3333333333333333,
              "#9c179e"
             ],
             [
              0.4444444444444444,
              "#bd3786"
             ],
             [
              0.5555555555555556,
              "#d8576b"
             ],
             [
              0.6666666666666666,
              "#ed7953"
             ],
             [
              0.7777777777777778,
              "#fb9f3a"
             ],
             [
              0.8888888888888888,
              "#fdca26"
             ],
             [
              1,
              "#f0f921"
             ]
            ],
            "type": "contour"
           }
          ],
          "contourcarpet": [
           {
            "colorbar": {
             "outlinewidth": 0,
             "ticks": ""
            },
            "type": "contourcarpet"
           }
          ],
          "heatmap": [
           {
            "colorbar": {
             "outlinewidth": 0,
             "ticks": ""
            },
            "colorscale": [
             [
              0,
              "#0d0887"
             ],
             [
              0.1111111111111111,
              "#46039f"
             ],
             [
              0.2222222222222222,
              "#7201a8"
             ],
             [
              0.3333333333333333,
              "#9c179e"
             ],
             [
              0.4444444444444444,
              "#bd3786"
             ],
             [
              0.5555555555555556,
              "#d8576b"
             ],
             [
              0.6666666666666666,
              "#ed7953"
             ],
             [
              0.7777777777777778,
              "#fb9f3a"
             ],
             [
              0.8888888888888888,
              "#fdca26"
             ],
             [
              1,
              "#f0f921"
             ]
            ],
            "type": "heatmap"
           }
          ],
          "histogram": [
           {
            "marker": {
             "pattern": {
              "fillmode": "overlay",
              "size": 10,
              "solidity": 0.2
             }
            },
            "type": "histogram"
           }
          ],
          "histogram2d": [
           {
            "colorbar": {
             "outlinewidth": 0,
             "ticks": ""
            },
            "colorscale": [
             [
              0,
              "#0d0887"
             ],
             [
              0.1111111111111111,
              "#46039f"
             ],
             [
              0.2222222222222222,
              "#7201a8"
             ],
             [
              0.3333333333333333,
              "#9c179e"
             ],
             [
              0.4444444444444444,
              "#bd3786"
             ],
             [
              0.5555555555555556,
              "#d8576b"
             ],
             [
              0.6666666666666666,
              "#ed7953"
             ],
             [
              0.7777777777777778,
              "#fb9f3a"
             ],
             [
              0.8888888888888888,
              "#fdca26"
             ],
             [
              1,
              "#f0f921"
             ]
            ],
            "type": "histogram2d"
           }
          ],
          "histogram2dcontour": [
           {
            "colorbar": {
             "outlinewidth": 0,
             "ticks": ""
            },
            "colorscale": [
             [
              0,
              "#0d0887"
             ],
             [
              0.1111111111111111,
              "#46039f"
             ],
             [
              0.2222222222222222,
              "#7201a8"
             ],
             [
              0.3333333333333333,
              "#9c179e"
             ],
             [
              0.4444444444444444,
              "#bd3786"
             ],
             [
              0.5555555555555556,
              "#d8576b"
             ],
             [
              0.6666666666666666,
              "#ed7953"
             ],
             [
              0.7777777777777778,
              "#fb9f3a"
             ],
             [
              0.8888888888888888,
              "#fdca26"
             ],
             [
              1,
              "#f0f921"
             ]
            ],
            "type": "histogram2dcontour"
           }
          ],
          "mesh3d": [
           {
            "colorbar": {
             "outlinewidth": 0,
             "ticks": ""
            },
            "type": "mesh3d"
           }
          ],
          "parcoords": [
           {
            "line": {
             "colorbar": {
              "outlinewidth": 0,
              "ticks": ""
             }
            },
            "type": "parcoords"
           }
          ],
          "pie": [
           {
            "automargin": true,
            "type": "pie"
           }
          ],
          "scatter": [
           {
            "fillpattern": {
             "fillmode": "overlay",
             "size": 10,
             "solidity": 0.2
            },
            "type": "scatter"
           }
          ],
          "scatter3d": [
           {
            "line": {
             "colorbar": {
              "outlinewidth": 0,
              "ticks": ""
             }
            },
            "marker": {
             "colorbar": {
              "outlinewidth": 0,
              "ticks": ""
             }
            },
            "type": "scatter3d"
           }
          ],
          "scattercarpet": [
           {
            "marker": {
             "colorbar": {
              "outlinewidth": 0,
              "ticks": ""
             }
            },
            "type": "scattercarpet"
           }
          ],
          "scattergeo": [
           {
            "marker": {
             "colorbar": {
              "outlinewidth": 0,
              "ticks": ""
             }
            },
            "type": "scattergeo"
           }
          ],
          "scattergl": [
           {
            "marker": {
             "colorbar": {
              "outlinewidth": 0,
              "ticks": ""
             }
            },
            "type": "scattergl"
           }
          ],
          "scattermap": [
           {
            "marker": {
             "colorbar": {
              "outlinewidth": 0,
              "ticks": ""
             }
            },
            "type": "scattermap"
           }
          ],
          "scattermapbox": [
           {
            "marker": {
             "colorbar": {
              "outlinewidth": 0,
              "ticks": ""
             }
            },
            "type": "scattermapbox"
           }
          ],
          "scatterpolar": [
           {
            "marker": {
             "colorbar": {
              "outlinewidth": 0,
              "ticks": ""
             }
            },
            "type": "scatterpolar"
           }
          ],
          "scatterpolargl": [
           {
            "marker": {
             "colorbar": {
              "outlinewidth": 0,
              "ticks": ""
             }
            },
            "type": "scatterpolargl"
           }
          ],
          "scatterternary": [
           {
            "marker": {
             "colorbar": {
              "outlinewidth": 0,
              "ticks": ""
             }
            },
            "type": "scatterternary"
           }
          ],
          "surface": [
           {
            "colorbar": {
             "outlinewidth": 0,
             "ticks": ""
            },
            "colorscale": [
             [
              0,
              "#0d0887"
             ],
             [
              0.1111111111111111,
              "#46039f"
             ],
             [
              0.2222222222222222,
              "#7201a8"
             ],
             [
              0.3333333333333333,
              "#9c179e"
             ],
             [
              0.4444444444444444,
              "#bd3786"
             ],
             [
              0.5555555555555556,
              "#d8576b"
             ],
             [
              0.6666666666666666,
              "#ed7953"
             ],
             [
              0.7777777777777778,
              "#fb9f3a"
             ],
             [
              0.8888888888888888,
              "#fdca26"
             ],
             [
              1,
              "#f0f921"
             ]
            ],
            "type": "surface"
           }
          ],
          "table": [
           {
            "cells": {
             "fill": {
              "color": "#EBF0F8"
             },
             "line": {
              "color": "white"
             }
            },
            "header": {
             "fill": {
              "color": "#C8D4E3"
             },
             "line": {
              "color": "white"
             }
            },
            "type": "table"
           }
          ]
         },
         "layout": {
          "annotationdefaults": {
           "arrowcolor": "#2a3f5f",
           "arrowhead": 0,
           "arrowwidth": 1
          },
          "autotypenumbers": "strict",
          "coloraxis": {
           "colorbar": {
            "outlinewidth": 0,
            "ticks": ""
           }
          },
          "colorscale": {
           "diverging": [
            [
             0,
             "#8e0152"
            ],
            [
             0.1,
             "#c51b7d"
            ],
            [
             0.2,
             "#de77ae"
            ],
            [
             0.3,
             "#f1b6da"
            ],
            [
             0.4,
             "#fde0ef"
            ],
            [
             0.5,
             "#f7f7f7"
            ],
            [
             0.6,
             "#e6f5d0"
            ],
            [
             0.7,
             "#b8e186"
            ],
            [
             0.8,
             "#7fbc41"
            ],
            [
             0.9,
             "#4d9221"
            ],
            [
             1,
             "#276419"
            ]
           ],
           "sequential": [
            [
             0,
             "#0d0887"
            ],
            [
             0.1111111111111111,
             "#46039f"
            ],
            [
             0.2222222222222222,
             "#7201a8"
            ],
            [
             0.3333333333333333,
             "#9c179e"
            ],
            [
             0.4444444444444444,
             "#bd3786"
            ],
            [
             0.5555555555555556,
             "#d8576b"
            ],
            [
             0.6666666666666666,
             "#ed7953"
            ],
            [
             0.7777777777777778,
             "#fb9f3a"
            ],
            [
             0.8888888888888888,
             "#fdca26"
            ],
            [
             1,
             "#f0f921"
            ]
           ],
           "sequentialminus": [
            [
             0,
             "#0d0887"
            ],
            [
             0.1111111111111111,
             "#46039f"
            ],
            [
             0.2222222222222222,
             "#7201a8"
            ],
            [
             0.3333333333333333,
             "#9c179e"
            ],
            [
             0.4444444444444444,
             "#bd3786"
            ],
            [
             0.5555555555555556,
             "#d8576b"
            ],
            [
             0.6666666666666666,
             "#ed7953"
            ],
            [
             0.7777777777777778,
             "#fb9f3a"
            ],
            [
             0.8888888888888888,
             "#fdca26"
            ],
            [
             1,
             "#f0f921"
            ]
           ]
          },
          "colorway": [
           "#636efa",
           "#EF553B",
           "#00cc96",
           "#ab63fa",
           "#FFA15A",
           "#19d3f3",
           "#FF6692",
           "#B6E880",
           "#FF97FF",
           "#FECB52"
          ],
          "font": {
           "color": "#2a3f5f"
          },
          "geo": {
           "bgcolor": "white",
           "lakecolor": "white",
           "landcolor": "white",
           "showlakes": true,
           "showland": true,
           "subunitcolor": "#C8D4E3"
          },
          "hoverlabel": {
           "align": "left"
          },
          "hovermode": "closest",
          "mapbox": {
           "style": "light"
          },
          "paper_bgcolor": "white",
          "plot_bgcolor": "white",
          "polar": {
           "angularaxis": {
            "gridcolor": "#EBF0F8",
            "linecolor": "#EBF0F8",
            "ticks": ""
           },
           "bgcolor": "white",
           "radialaxis": {
            "gridcolor": "#EBF0F8",
            "linecolor": "#EBF0F8",
            "ticks": ""
           }
          },
          "scene": {
           "xaxis": {
            "backgroundcolor": "white",
            "gridcolor": "#DFE8F3",
            "gridwidth": 2,
            "linecolor": "#EBF0F8",
            "showbackground": true,
            "ticks": "",
            "zerolinecolor": "#EBF0F8"
           },
           "yaxis": {
            "backgroundcolor": "white",
            "gridcolor": "#DFE8F3",
            "gridwidth": 2,
            "linecolor": "#EBF0F8",
            "showbackground": true,
            "ticks": "",
            "zerolinecolor": "#EBF0F8"
           },
           "zaxis": {
            "backgroundcolor": "white",
            "gridcolor": "#DFE8F3",
            "gridwidth": 2,
            "linecolor": "#EBF0F8",
            "showbackground": true,
            "ticks": "",
            "zerolinecolor": "#EBF0F8"
           }
          },
          "shapedefaults": {
           "line": {
            "color": "#2a3f5f"
           }
          },
          "ternary": {
           "aaxis": {
            "gridcolor": "#DFE8F3",
            "linecolor": "#A2B1C6",
            "ticks": ""
           },
           "baxis": {
            "gridcolor": "#DFE8F3",
            "linecolor": "#A2B1C6",
            "ticks": ""
           },
           "bgcolor": "white",
           "caxis": {
            "gridcolor": "#DFE8F3",
            "linecolor": "#A2B1C6",
            "ticks": ""
           }
          },
          "title": {
           "x": 0.05
          },
          "xaxis": {
           "automargin": true,
           "gridcolor": "#EBF0F8",
           "linecolor": "#EBF0F8",
           "ticks": "",
           "title": {
            "standoff": 15
           },
           "zerolinecolor": "#EBF0F8",
           "zerolinewidth": 2
          },
          "yaxis": {
           "automargin": true,
           "gridcolor": "#EBF0F8",
           "linecolor": "#EBF0F8",
           "ticks": "",
           "title": {
            "standoff": 15
           },
           "zerolinecolor": "#EBF0F8",
           "zerolinewidth": 2
          }
         }
        },
        "title": {
         "text": "Pantry Ingredient Quantities"
        },
        "xaxis": {
         "title": {
          "text": "Ingredient"
         }
        },
        "yaxis": {
         "title": {
          "text": "Quantity"
         }
        }
       }
      }
     },
     "metadata": {},
     "output_type": "display_data"
    }
   ],
   "source": [
    "# you can also visaluze the libarary with plotly\n",
    "pantry.visualize_pantry()"
   ]
  },
  {
   "cell_type": "markdown",
   "id": "674131e0",
   "metadata": {},
   "source": [
    "# Finding recipes under a calories threshold\n",
    " You should be able to find recipes that you can make under a certain calorie threshold by using the find_recipes_under function"
   ]
  },
  {
   "cell_type": "code",
   "execution_count": 8,
   "id": "46b8d760",
   "metadata": {},
   "outputs": [
    {
     "name": "stdout",
     "output_type": "stream",
     "text": [
      "Total calories: 400\n",
      "Total calories: 1640\n",
      "Can make chicken and rice: True\n",
      "Can make cake: True\n",
      "defaultdict(<class 'recipe_book_project_vanessalulo.ingredients.IngredientList'>, {'chicken_rice': <recipe_book_project_vanessalulo.ingredients.IngredientList object at 0x110a61460>, 'cake': <recipe_book_project_vanessalulo.ingredients.IngredientList object at 0x110a413d0>})\n",
      "Healthy recipes under 500 calories:\n",
      "['chicken_rice']\n"
     ]
    }
   ],
   "source": [
    "# creating a healthy recipe\n",
    "chicken = Ingredient(name=\"chicken\", measurement=\"grams\", quantity=100, calories=150)\n",
    "rice = Ingredient(name=\"rice\", measurement=\"grams\", quantity=200, calories=250)\n",
    "\n",
    "chicken_rice_ingredients = IngredientList()\n",
    "chicken_rice_ingredients.add_ingredient(chicken)\n",
    "chicken_rice_ingredients.add_ingredient(rice)\n",
    "\n",
    "# Check the total calories\n",
    "print(\"Total calories:\", chicken_rice_ingredients.total_calories)\n",
    "\n",
    "\n",
    "# creating a couple unhealthy recipes\n",
    "cake_ingredients = IngredientList()\n",
    "cake_ingredients.add_ingredient(flour)\n",
    "cake_ingredients.add_ingredient(sugar)\n",
    "cake_ingredients.add_ingredient(eggs)\n",
    "\n",
    "# Check the total calories\n",
    "print(\"Total calories:\", cake_ingredients.total_calories)\n",
    "\n",
    "# Add both recipes to the pantry\n",
    "pantry.add_to_recipes(\"chicken_rice\", chicken_rice_ingredients)\n",
    "pantry.add_to_recipes(\"cake\", cake_ingredients)\n",
    "\n",
    "# add all the ingredients to the pantry\n",
    "pantry.add_to_pantry(\"chicken\", 500)\n",
    "pantry.add_to_pantry(\"rice\", 1000)\n",
    "pantry.add_to_pantry(\"flour\", 500)\n",
    "pantry.add_to_pantry(\"sugar\", 200)\n",
    "\n",
    "# Check if we can make the chicken and rice recipe\n",
    "can_make = chicken_rice_ingredients.enough_for_recipe(pantry)\n",
    "print(\"Can make chicken and rice:\", can_make)  # Should be True\n",
    "# Check if we can make the cake recipe\n",
    "can_make = cake_ingredients.enough_for_recipe(pantry)\n",
    "print(\"Can make cake:\", can_make)  # Should be True\n",
    "\n",
    "print(pantry.recipes)\n",
    "\n",
    "\n",
    "#see if we cane find recipes under 500 calories\n",
    "healthy_recipes = pantry.find_recipes_under(calories=500)\n",
    "print(\"Healthy recipes under 500 calories:\")\n",
    "print(healthy_recipes)"
   ]
  },
  {
   "cell_type": "markdown",
   "id": "0d54458a",
   "metadata": {},
   "source": [
    "# Future Ideas\n",
    "- Make the IngredientList more like a python set or list\n",
    "- being able to make dietary restrictions\n",
    "- putting in macronutrient values like fat, protien, carbs, sugars\n",
    "- add more test coverages"
   ]
  }
 ],
 "metadata": {
  "kernelspec": {
   "display_name": ".venv",
   "language": "python",
   "name": "python3"
  },
  "language_info": {
   "codemirror_mode": {
    "name": "ipython",
    "version": 3
   },
   "file_extension": ".py",
   "mimetype": "text/x-python",
   "name": "python",
   "nbconvert_exporter": "python",
   "pygments_lexer": "ipython3",
   "version": "3.9.6"
  }
 },
 "nbformat": 4,
 "nbformat_minor": 5
}
