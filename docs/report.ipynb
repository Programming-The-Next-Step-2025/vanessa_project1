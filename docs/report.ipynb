{
 "cells": [
  {
   "cell_type": "code",
   "execution_count": 1,
   "id": "2b8f1d2c",
   "metadata": {},
   "outputs": [
    {
     "name": "stdout",
     "output_type": "stream",
     "text": [
      "Processing /Users/vanessalulo/Projects/RecipeTests/vanessa_project1\n",
      "\u001b[33m  DEPRECATION: A future pip version will change local packages to be built in-place without first copying to a temporary directory. We recommend you use --use-feature=in-tree-build to test your packages with this new behavior before it becomes the default.\n",
      "   pip 21.3 will remove support for this functionality. You can find discussion regarding this at https://github.com/pypa/pip/issues/7555.\u001b[0m\n",
      "  Installing build dependencies ... \u001b[?25ldone\n",
      "\u001b[?25h  Getting requirements to build wheel ... \u001b[?25ldone\n",
      "\u001b[?25h    Preparing wheel metadata ... \u001b[?25ldone\n",
      "\u001b[?25hCollecting requests\n",
      "  Using cached requests-2.32.3-py3-none-any.whl (64 kB)\n",
      "Collecting nbformat>=4.2.0\n",
      "  Downloading nbformat-5.10.4-py3-none-any.whl (78 kB)\n",
      "\u001b[K     |████████████████████████████████| 78 kB 7.9 MB/s  eta 0:00:01\n",
      "\u001b[?25hCollecting plotly\n",
      "  Using cached plotly-6.1.1-py3-none-any.whl (16.1 MB)\n",
      "Collecting fastjsonschema>=2.15\n",
      "  Downloading fastjsonschema-2.21.1-py3-none-any.whl (23 kB)\n",
      "Collecting jsonschema>=2.6\n",
      "  Downloading jsonschema-4.23.0-py3-none-any.whl (88 kB)\n",
      "\u001b[K     |████████████████████████████████| 88 kB 10.2 MB/s eta 0:00:01\n",
      "\u001b[?25hRequirement already satisfied: jupyter-core!=5.0.*,>=4.12 in /Users/vanessalulo/Projects/RecipeTests/vanessa_project1/.venv/lib/python3.9/site-packages (from nbformat>=4.2.0->recipe_book_project_vanessalulo==0.0.1) (5.7.2)\n",
      "Requirement already satisfied: traitlets>=5.1 in /Users/vanessalulo/Projects/RecipeTests/vanessa_project1/.venv/lib/python3.9/site-packages (from nbformat>=4.2.0->recipe_book_project_vanessalulo==0.0.1) (5.14.3)\n",
      "Collecting referencing>=0.28.4\n",
      "  Downloading referencing-0.36.2-py3-none-any.whl (26 kB)\n",
      "Collecting rpds-py>=0.7.1\n",
      "  Downloading rpds_py-0.25.1-cp39-cp39-macosx_11_0_arm64.whl (359 kB)\n",
      "\u001b[K     |████████████████████████████████| 359 kB 18.2 MB/s eta 0:00:01\n",
      "\u001b[?25hCollecting jsonschema-specifications>=2023.03.6\n",
      "  Downloading jsonschema_specifications-2025.4.1-py3-none-any.whl (18 kB)\n",
      "Collecting attrs>=22.2.0\n",
      "  Downloading attrs-25.3.0-py3-none-any.whl (63 kB)\n",
      "\u001b[K     |████████████████████████████████| 63 kB 4.2 MB/s  eta 0:00:01\n",
      "\u001b[?25hRequirement already satisfied: platformdirs>=2.5 in /Users/vanessalulo/Projects/RecipeTests/vanessa_project1/.venv/lib/python3.9/site-packages (from jupyter-core!=5.0.*,>=4.12->nbformat>=4.2.0->recipe_book_project_vanessalulo==0.0.1) (4.3.8)\n",
      "Requirement already satisfied: typing-extensions>=4.4.0 in /Users/vanessalulo/Projects/RecipeTests/vanessa_project1/.venv/lib/python3.9/site-packages (from referencing>=0.28.4->jsonschema>=2.6->nbformat>=4.2.0->recipe_book_project_vanessalulo==0.0.1) (4.13.2)\n",
      "Collecting narwhals>=1.15.1\n",
      "  Using cached narwhals-1.40.0-py3-none-any.whl (357 kB)\n",
      "Requirement already satisfied: packaging in /Users/vanessalulo/Projects/RecipeTests/vanessa_project1/.venv/lib/python3.9/site-packages (from plotly->recipe_book_project_vanessalulo==0.0.1) (25.0)\n",
      "Collecting idna<4,>=2.5\n",
      "  Using cached idna-3.10-py3-none-any.whl (70 kB)\n",
      "Collecting charset-normalizer<4,>=2\n",
      "  Using cached charset_normalizer-3.4.2-cp39-cp39-macosx_10_9_universal2.whl (201 kB)\n",
      "Collecting urllib3<3,>=1.21.1\n",
      "  Using cached urllib3-2.4.0-py3-none-any.whl (128 kB)\n",
      "Collecting certifi>=2017.4.17\n",
      "  Using cached certifi-2025.4.26-py3-none-any.whl (159 kB)\n",
      "Building wheels for collected packages: recipe-book-project-vanessalulo\n",
      "  Building wheel for recipe-book-project-vanessalulo (PEP 517) ... \u001b[?25ldone\n",
      "\u001b[?25h  Created wheel for recipe-book-project-vanessalulo: filename=recipe_book_project_vanessalulo-0.0.1-py3-none-any.whl size=4937 sha256=28ae5acc0eb03cba4a9c8eadfe4f2fe997dc08bb3065383403ac35606754ba82\n",
      "  Stored in directory: /private/var/folders/bf/65s0x5s5619_10xc7tt0k7c40000gn/T/pip-ephem-wheel-cache-o_u0js1p/wheels/6c/70/07/9d48f8c57acdba81286b85c427be883d4c13f33bd9ee1341a4\n",
      "Successfully built recipe-book-project-vanessalulo\n",
      "Installing collected packages: rpds-py, attrs, referencing, jsonschema-specifications, urllib3, narwhals, jsonschema, idna, fastjsonschema, charset-normalizer, certifi, requests, plotly, nbformat, recipe-book-project-vanessalulo\n",
      "Successfully installed attrs-25.3.0 certifi-2025.4.26 charset-normalizer-3.4.2 fastjsonschema-2.21.1 idna-3.10 jsonschema-4.23.0 jsonschema-specifications-2025.4.1 narwhals-1.40.0 nbformat-5.10.4 plotly-6.1.1 recipe-book-project-vanessalulo-0.0.1 referencing-0.36.2 requests-2.32.3 rpds-py-0.25.1 urllib3-2.4.0\n",
      "\u001b[33mWARNING: You are using pip version 21.2.4; however, version 25.1.1 is available.\n",
      "You should consider upgrading via the '/Users/vanessalulo/Projects/RecipeTests/vanessa_project1/.venv/bin/python3 -m pip install --upgrade pip' command.\u001b[0m\n"
     ]
    }
   ],
   "source": [
    "!pip install ../\n",
    "# make sure requests, plotly, nbformat>=4.2.0 installed\n",
    "from recipe_book_project_vanessalulo import Pantry\n",
    "from recipe_book_project_vanessalulo import Ingredient, IngredientList\n"
   ]
  },
  {
   "cell_type": "markdown",
   "id": "85e0d604",
   "metadata": {},
   "source": [
    "# Week 3 Report – Pantry Package\n",
    "\n",
    "## Introduction\n",
    "This report outlines the Pantry package. The report also demonstrates usage and possible outputs of the package so far.\n"
   ]
  },
  {
   "cell_type": "markdown",
   "id": "aad2fc4d",
   "metadata": {},
   "source": [
    "## Ingredients and IngredientList classes\n",
    "The Ingredient class represents a single ingredient with its name, measurement, quantity, and calories. The IngredientList class manages a collection of these ingredients, tracks total calories, and checks if a pantry has enough ingredients to make a recipe."
   ]
  },
  {
   "cell_type": "markdown",
   "id": "4ca1cb34",
   "metadata": {},
   "source": [
    "# How to use the Ingredients package"
   ]
  },
  {
   "cell_type": "code",
   "execution_count": null,
   "id": "8aa4f0bc",
   "metadata": {},
   "outputs": [],
   "source": [
    "# create individual ingredients\n",
    "flour = Ingredient(name=\"flour\", measurement=\"grams\", quantity=300, calories=1100)\n",
    "sugar = Ingredient(name=\"sugar\", measurement=\"grams\", quantity=100, calories=400)\n",
    "eggs = Ingredient(name=\"eggs\", measurement=\"units\", quantity=2, calories=140)\n",
    "\n",
    "# create an ingredient list\n",
    "cake_ingredients = IngredientList()\n",
    "cake_ingredients.add_ingredient(flour)\n",
    "cake_ingredients.add_ingredient(sugar)\n",
    "cake_ingredients.add_ingredient(eggs)\n",
    "\n",
    "# to visualize the ingredient list\n",
    "# Check what's in the recipe\n",
    "for name, ing in cake_ingredients.ingredients.items():\n",
    "    print(f\"{ing.quantity} {ing.measurement} of {ing.name} ({ing.calories} cal)\")\n",
    "\n",
    "print(\"Total calories:\", cake_ingredients.total_calories)\n"
   ]
  },
  {
   "cell_type": "markdown",
   "id": "6a492707",
   "metadata": {},
   "source": [
    "# Now demonstration of the Pantry\n"
   ]
  },
  {
   "cell_type": "code",
   "execution_count": null,
   "id": "f544a30f",
   "metadata": {},
   "outputs": [],
   "source": [
    "# Create a Pantry and stock it\n",
    "pantry = Pantry()\n",
    "pantry.add_to_pantry(\"flour\", 500)\n",
    "pantry.add_to_pantry(\"sugar\", 200)\n",
    "pantry.add_to_pantry(\"eggs\", 4)\n",
    "# Check if we can make the cake\n",
    "can_make = cake_ingredients.enough_for_recipe(pantry)\n",
    "print(\"Can make cake:\", can_make)  # Should be True"
   ]
  },
  {
   "cell_type": "code",
   "execution_count": null,
   "id": "cf3dceb8",
   "metadata": {},
   "outputs": [],
   "source": [
    "# Simulate limited pantry\n",
    "limited_pantry = Pantry()\n",
    "limited_pantry.add_to_pantry(\"flour\", 100)\n",
    "limited_pantry.add_to_pantry(\"sugar\", 50)\n",
    "limited_pantry.add_to_pantry(\"eggs\", 1)\n",
    "\n",
    "print(\"Can make cake with limited pantry:\", cake_ingredients.enough_for_recipe(limited_pantry))  # False\n"
   ]
  },
  {
   "cell_type": "code",
   "execution_count": null,
   "id": "8dcea1b9",
   "metadata": {},
   "outputs": [],
   "source": [
    "# you can also visaluze the libarary with plotly\n",
    "pantry.visualize_pantry()"
   ]
  },
  {
   "cell_type": "markdown",
   "id": "674131e0",
   "metadata": {},
   "source": [
    "# Finding recipes under a calories threshold\n",
    " You should be able to find recipes that you can make under a certain calorie threshold by using the find_recipes_under function"
   ]
  },
  {
   "cell_type": "code",
   "execution_count": null,
   "id": "46b8d760",
   "metadata": {},
   "outputs": [],
   "source": [
    "# creating a healthy recipe\n",
    "chicken = Ingredient(name=\"chicken\", measurement=\"grams\", quantity=100, calories=150)\n",
    "rice = Ingredient(name=\"rice\", measurement=\"grams\", quantity=200, calories=250)\n",
    "\n",
    "chicken_rice_ingredients = IngredientList()\n",
    "chicken_rice_ingredients.add_ingredient(chicken)\n",
    "chicken_rice_ingredients.add_ingredient(rice)\n",
    "\n",
    "# Check the total calories\n",
    "print(\"Total calories:\", chicken_rice_ingredients.total_calories)\n",
    "\n",
    "\n",
    "# creating a couple unhealthy recipes\n",
    "cake_ingredients = IngredientList()\n",
    "cake_ingredients.add_ingredient(flour)\n",
    "cake_ingredients.add_ingredient(sugar)\n",
    "cake_ingredients.add_ingredient(eggs)\n",
    "\n",
    "# Check the total calories\n",
    "print(\"Total calories:\", cake_ingredients.total_calories)\n",
    "\n",
    "# Add both recipes to the pantry\n",
    "pantry.add_to_recipes(\"chicken_rice\", chicken_rice_ingredients)\n",
    "pantry.add_to_recipes(\"cake\", cake_ingredients)\n",
    "\n",
    "# add all the ingredients to the pantry\n",
    "pantry.add_to_pantry(\"chicken\", 500)\n",
    "pantry.add_to_pantry(\"rice\", 1000)\n",
    "pantry.add_to_pantry(\"flour\", 500)\n",
    "pantry.add_to_pantry(\"sugar\", 200)\n",
    "\n",
    "# Check if we can make the chicken and rice recipe\n",
    "can_make = chicken_rice_ingredients.enough_for_recipe(pantry)\n",
    "print(\"Can make chicken and rice:\", can_make)  # Should be True\n",
    "# Check if we can make the cake recipe\n",
    "can_make = cake_ingredients.enough_for_recipe(pantry)\n",
    "print(\"Can make cake:\", can_make)  # Should be True\n",
    "\n",
    "print(pantry.recipes)\n",
    "\n",
    "\n",
    "#see if we cane find recipes under 500 calories\n",
    "healthy_recipes = pantry.find_recipes_under(calories=500)\n",
    "print(\"Healthy recipes under 500 calories:\")\n",
    "print(healthy_recipes)"
   ]
  },
  {
   "cell_type": "markdown",
   "id": "0d54458a",
   "metadata": {},
   "source": [
    "# Future Ideas\n",
    "- Make the IngredientList more like a python set or list\n",
    "- being able to make dietary restrictions\n",
    "- putting in macronutrient values like fat, protien, carbs, sugars\n",
    "- add more test coverages"
   ]
  }
 ],
 "metadata": {
  "kernelspec": {
   "display_name": ".venv",
   "language": "python",
   "name": "python3"
  },
  "language_info": {
   "codemirror_mode": {
    "name": "ipython",
    "version": 3
   },
   "file_extension": ".py",
   "mimetype": "text/x-python",
   "name": "python",
   "nbconvert_exporter": "python",
   "pygments_lexer": "ipython3",
   "version": "3.9.6"
  }
 },
 "nbformat": 4,
 "nbformat_minor": 5
}
